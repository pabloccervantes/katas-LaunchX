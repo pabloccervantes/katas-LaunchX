{
  "cells": [
    {
      "cell_type": "markdown",
      "metadata": {},
      "source": [
        "# Ejercicio: Uso de funciones en Python"
      ]
    },
    {
      "cell_type": "markdown",
      "metadata": {},
      "source": [
        "### Ejercicio 1: Trabajar con argumentos en funciones\n",
        "\n",
        "Los argumentos requeridos en las funciones se utilizan cuando las funciones necesitan que esos argumentos funcionen correctamente. En este ejercicio, construirás un informe de combustible que requiere información de varias ubicaciones de combustible en todo el cohete.\n",
        "\n"
      ]
    },
    {
      "cell_type": "markdown",
      "metadata": {},
      "source": [
        "> **TIP**\n",
        "> Dedica unos minutos para tratar de encontrar una solución. Luego desplázate hacia abajo hasta la parte inferior para ver si has logrado compilar el programa de acuerdo con las especificaciones\n",
        "\n",
        "Comienza por crear una función que necesite tres lecturas de combustible y devuelva un informe:"
      ]
    },
    {
      "cell_type": "code",
      "execution_count": 12,
      "metadata": {},
      "outputs": [],
      "source": [
        "# Función para leer 3 tanques de combustible y muestre el promedio\n",
        "def reporte(tanque1, tanque2, tanque3):\n",
        "    promedio = (tanque1+tanque2+tanque3)/3\n",
        "    return f\"\"\"\n",
        "    *****Reporte de combustible******\n",
        "    *********************************\n",
        "    tanque 1: {tanque1}%\n",
        "    tanque 2: {tanque2}%\n",
        "    tanque 3: {tanque3}%\n",
        "    promedio: {promedio}%\n",
        "    \"\"\"\n"
      ]
    },
    {
      "cell_type": "markdown",
      "metadata": {},
      "source": [
        "Ahora que hemos definido la función de informes, vamos a comprobarlo. Para esta misión, los tanques no están llenos:"
      ]
    },
    {
      "cell_type": "code",
      "execution_count": 13,
      "metadata": {},
      "outputs": [
        {
          "name": "stdout",
          "output_type": "stream",
          "text": [
            "\n",
            "    *****Reporte de combustible******\n",
            "    *********************************\n",
            "    tanque 1: 10%\n",
            "    tanque 2: 20%\n",
            "    tanque 3: 30%\n",
            "    promedio: 20.0%\n",
            "    \n"
          ]
        }
      ],
      "source": [
        "\n",
        "# Llamamos a la función que genera el reporte print(funcion(tanque1, tanque2, tanque3))\n",
        "print(reporte(10,20,30))"
      ]
    },
    {
      "cell_type": "markdown",
      "metadata": {},
      "source": [
        "En lugar de simplemente crear el informe, la función también está calculando el promedio. Mejora la legibilidad extrayendo el cálculo promedio de la función en una nueva función para que el promedio se pueda hacer de forma independiente:"
      ]
    },
    {
      "cell_type": "code",
      "execution_count": 24,
      "metadata": {},
      "outputs": [],
      "source": [
        "# Función promedio\n",
        "def promedio(values):\n",
        "    return sum(values) / len(values)"
      ]
    },
    {
      "cell_type": "markdown",
      "metadata": {},
      "source": [
        "Ahora actualiza la función de informes para llamando a la nueva función del promedio:\n"
      ]
    },
    {
      "cell_type": "code",
      "execution_count": 25,
      "metadata": {},
      "outputs": [
        {
          "name": "stdout",
          "output_type": "stream",
          "text": [
            "\n",
            "    *****Reporte de combustible******\n",
            "    *********************************\n",
            "    tanque 1: 10%\n",
            "    tanque 2: 20%\n",
            "    tanque 3: 30%\n",
            "    promedio: 20.0%\n",
            "    \n"
          ]
        }
      ],
      "source": [
        "# Actualiza la función\n",
        "def reporte(tanque1, tanque2, tanque3):\n",
        "    return f\"\"\"\n",
        "    *****Reporte de combustible******\n",
        "    *********************************\n",
        "    tanque 1: {tanque1}%\n",
        "    tanque 2: {tanque2}%\n",
        "    tanque 3: {tanque3}%\n",
        "    promedio: {promedio([tanque1, tanque2, tanque3])}%\n",
        "    \"\"\"\n",
        "    \n",
        "print(reporte(10,20,30))"
      ]
    },
    {
      "cell_type": "markdown",
      "metadata": {},
      "source": [
        "> Recuerda: Lo importante es intentarlo, puedes auxiliarte de internet, libros, etc. El objetivo de una kata es la comprobación de la comprensión de la lección y su aplicación inmediata a la resolución de problemas. Go for it!"
      ]
    },
    {
      "cell_type": "markdown",
      "metadata": {},
      "source": [
        "## Ejercicio 2: Trabajo con argumentos de palabra clave"
      ]
    },
    {
      "cell_type": "markdown",
      "metadata": {},
      "source": [
        "### Ejercicio : Trabajar con argumentos de palabras clave en funciones\n",
        "En este ejercicio, construirás un informe de cohete que requiere varias piezas de información, como el tiempo hasta el destino, el combustible restante y el nombre del destino. Comienza por crear una función que creará un informe preciso de la misión:"
      ]
    },
    {
      "cell_type": "code",
      "execution_count": 27,
      "metadata": {},
      "outputs": [
        {
          "name": "stdout",
          "output_type": "stream",
          "text": [
            "\n",
            "    ***************************************************************\n",
            "    Tiempo hasta el destino: 17 horas\n",
            "    Combustible restante: 3000 litros\n",
            "    Destino: Estación espacial\n",
            "    ***************************************************************\n",
            "    \n"
          ]
        }
      ],
      "source": [
        "# Función con un informe preciso de la misión. Considera hora de prelanzamiento, tiempo de vuelo, destino, tanque externo y tanque interno\n",
        "def informe_de_cohete(hora_prelanzamiento, tiempo_de_vuelo, destino, tanque_externo, tanque_interno):\n",
        "    return f\"\"\"\n",
        "    ***************************************************************\n",
        "    Tiempo hasta el destino: {hora_prelanzamiento+tiempo_de_vuelo} horas\n",
        "    Combustible restante: {tanque_externo+tanque_interno} litros\n",
        "    Destino: {destino}\n",
        "    ***************************************************************\n",
        "    \"\"\"\n",
        "\n",
        "print(informe_de_cohete(12, 5, \"Estación espacial\", 2000, 1000))"
      ]
    },
    {
      "cell_type": "markdown",
      "metadata": {},
      "source": [
        "La función es problemática porque no se puede adaptar para minutos adicionales o tanques adicionales de combustible. Hazlo más flexible permitiendo cualquier número de pasos basados en el tiempo y cualquier número de tanques. En lugar de usar `*args` y `**kwargs`, aprovecha el hecho de que puedes usar cualquier nombre que desees. Asegurate que la función sea más legible mediante el uso de nombres de variables que están asociados con las entradas, como `*minutes` y `**fuel_reservoirs`:"
      ]
    },
    {
      "cell_type": "code",
      "execution_count": 28,
      "metadata": {},
      "outputs": [
        {
          "name": "stdout",
          "output_type": "stream",
          "text": [
            "\n",
            "    ***************************************************************\n",
            "    Tiempo hasta el destino: 17 horas\n",
            "    Combustible restante: 3000 litros\n",
            "    Destino: Estación espacial\n",
            "    ***************************************************************\n",
            "    \n"
          ]
        }
      ],
      "source": [
        "# Escribe tu nueva función de reporte considerando lo anterior\n",
        "def mission_report(destino, *tiempo, **combustibles):\n",
        "    return f\"\"\"\n",
        "    ***************************************************************\n",
        "    Tiempo hasta el destino: {sum(tiempo)} horas\n",
        "    Combustible restante: {sum(combustibles.values())} litros\n",
        "    Destino: {destino}\n",
        "    ***************************************************************\n",
        "    \"\"\"\n",
        "\n",
        "print(mission_report(\"Estación espacial\", 12, 5, tanque_externo=2000, tanque_interno=1000))"
      ]
    },
    {
      "cell_type": "markdown",
      "metadata": {},
      "source": [
        "Debido a que el combustible que queda en los tanques es específico de cada tanque, actualiza la función para usar el nombre de cada tanque en el informe:"
      ]
    },
    {
      "cell_type": "code",
      "execution_count": 31,
      "metadata": {},
      "outputs": [
        {
          "name": "stdout",
          "output_type": "stream",
          "text": [
            "***************************************************************\n",
            "Tiempo hasta el destino: 17 horas\n",
            "Combustible restante: 3000 litros\n",
            "Destino: Estación espacial\n",
            "tanque_externo: 2000 litros\n",
            "tanque_interno: 1000 litros\n",
            "***************************************************************\n"
          ]
        }
      ],
      "source": [
        "# Escribe tu nueva función\n",
        "def mission_report(destino, *tiempo, **combustibles):\n",
        "    reporte = f\"\"\"***************************************************************\\nTiempo hasta el destino: {sum(tiempo)} horas\\nCombustible restante: {sum(combustibles.values())} litros\\nDestino: {destino}\\n\"\"\"\n",
        "    for tanque, combustible in combustibles.items():\n",
        "        reporte += f\"{tanque}: {combustible} litros\\n\"\n",
        "    reporte+= \"***************************************************************\"\n",
        "    return reporte\n",
        "\n",
        "print(mission_report(\"Estación espacial\", 12, 5, tanque_externo=2000, tanque_interno=1000))"
      ]
    },
    {
      "cell_type": "markdown",
      "metadata": {},
      "source": [
        "---\n",
        "\n",
        "Curso Propedútico de Python para Launch X - Innovacción Virtual.\n",
        "\n",
        "Material desarrollado con base en los contenidos de MSLearn y la metáfora de LaunchX, traducción e implementación por: Fernanda Ochoa - Learning Producer de LaunchX.\n",
        "\n",
        "Redes:\n",
        "* GitHub: [FernandaOchoa](https://github.com/FernandaOchoa)\n",
        "* Twitter: [@imonsh](https://twitter.com/imonsh)\n",
        "* Instagram: [fherz8a](https://www.instagram.com/fherz8a/)"
      ]
    }
  ],
  "metadata": {
    "interpreter": {
      "hash": "205095b8b86ea82a021a8fc2ffba2b3bc9f8d0be25999901963b225939f75778"
    },
    "kernelspec": {
      "display_name": "Python 3.8.10 64-bit ('tmp': conda)",
      "name": "python3"
    },
    "language_info": {
      "codemirror_mode": {
        "name": "ipython",
        "version": 3
      },
      "file_extension": ".py",
      "mimetype": "text/x-python",
      "name": "python",
      "nbconvert_exporter": "python",
      "pygments_lexer": "ipython3",
      "version": "3.10.2"
    },
    "nteract": {
      "version": "nteract-front-end@1.0.0"
    },
    "orig_nbformat": 4
  },
  "nbformat": 4,
  "nbformat_minor": 2
}
